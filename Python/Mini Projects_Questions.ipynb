{
 "cells": [
  {
   "cell_type": "markdown",
   "id": "82a235bd-87bd-453b-8a0f-800de7e0b30e",
   "metadata": {},
   "source": [
    "# HACKARUN/HAKATHON/CODE WARS"
   ]
  },
  {
   "cell_type": "markdown",
   "id": "1be114c4-1f29-4e33-a020-3914e38e0016",
   "metadata": {},
   "source": [
    "1. Write a program that takes 10 array elements and displays the absolute difference between the count of all odd array elements and all even array elements"
   ]
  },
  {
   "cell_type": "code",
   "execution_count": 2,
   "id": "6321b1b1-286a-4403-b8ac-a275bf90a77d",
   "metadata": {},
   "outputs": [
    {
     "name": "stdout",
     "output_type": "stream",
     "text": [
      "The list of 10 random numbers is:\n",
      "\n",
      "[91, 2, 49, 45, 52, 79, 8, 37, 96, 86]\n",
      "\n",
      "The list of even numbers is:\n",
      "\n",
      "[2, 52, 8, 96, 86]\n",
      "\n",
      "The list of odd numbers is:\n",
      "\n",
      "[91, 49, 45, 79, 37]\n",
      "\n",
      "The absolute difference between the count of even and odd numbers is: 0\n"
     ]
    }
   ],
   "source": [
    "import random\n",
    "\n",
    "# Generate a list of 10 random integers between 1 and 100\n",
    "random_numbers = [random.randint(1, 100) for _ in range(10)]\n",
    "\n",
    "# Intialise a list of even numbers with an empty list\n",
    "even_numbers = []\n",
    "\n",
    "# Intialise a list of even numbers with an empty list\n",
    "odd_numbers = []\n",
    "\n",
    "# Iterate through the list of 10 random numbers\n",
    "for element in random_numbers:\n",
    "    \n",
    "    # If the number is even, add it to the list of even numbers\n",
    "    if element % 2 == 0:\n",
    "        even_numbers.append(element)\n",
    "        \n",
    "    # If the number is odd, add it to the list of odd numbers\n",
    "    elif element % 2 != 0:\n",
    "        odd_numbers.append(element)\n",
    "\n",
    "# Calculate the absolute difference between the count of odd and even numbers\n",
    "result = abs(len(odd_numbers) - len(even_numbers))\n",
    "\n",
    "print(\"The list of 10 random numbers is:\")\n",
    "print()\n",
    "print(random_numbers)\n",
    "print()\n",
    "print(\"The list of even numbers is:\")\n",
    "print()\n",
    "print(even_numbers)\n",
    "print()\n",
    "print(\"The list of odd numbers is:\")\n",
    "print()\n",
    "print(odd_numbers)\n",
    "print()\n",
    "print(f\"The absolute difference between the count of even and odd numbers is: {result}\")"
   ]
  },
  {
   "cell_type": "markdown",
   "id": "f1d75cf2-2619-4460-a53c-aa02cef0ecba",
   "metadata": {},
   "source": [
    "2. Write a program that takes an array of size N as input and gives the output as an array in the reverse order."
   ]
  },
  {
   "cell_type": "code",
   "execution_count": 3,
   "id": "e15a16e7-8f74-43b7-917a-65319ee2d88d",
   "metadata": {},
   "outputs": [
    {
     "name": "stdin",
     "output_type": "stream",
     "text": [
      "Please enter the size of the array: 20\n"
     ]
    },
    {
     "name": "stdout",
     "output_type": "stream",
     "text": [
      "\n",
      "The reversed output is:\n",
      "\n",
      "[20, 19, 18, 17, 16, 15, 14, 13, 12, 11, 10, 9, 8, 7, 6, 5, 4, 3, 2, 1]\n"
     ]
    }
   ],
   "source": [
    "# Check the validity of the size of the array\n",
    "while True:\n",
    "    try:\n",
    "        n = int(input(\"Please enter the size of the array:\"))\n",
    "        if n <= 0:\n",
    "            print(\"Please enter a positive integer greater than zero\")\n",
    "        else:\n",
    "            break\n",
    "    except ValueError:\n",
    "        print(\"Invalid input. Please enter a valid positive integer\")\n",
    "print()\n",
    "        \n",
    "# Create a array that uses the size to define a range of consecutive values        \n",
    "array = list(range(n))\n",
    "\n",
    "# Intialise a second array with an empty list\n",
    "array2 = []\n",
    "\n",
    "# Iterate through the first array and append the second array with {i+1} consecutive values \n",
    "for i in array:\n",
    "    array2.append(i+1)\n",
    "\n",
    "# Reverse the order of the values within the second array\n",
    "array2.reverse()\n",
    "#----------OR-----------\n",
    "# array3 = array2[::-1]\n",
    "\n",
    "# Print the reversed array\n",
    "print(\"The reversed output is:\")\n",
    "print()\n",
    "print(array2)\n",
    "#----------OR-----------\n",
    "# print(\"The reversed output is:\")\n",
    "# print()\n",
    "# print(array3)"
   ]
  }
 ],
 "metadata": {
  "kernelspec": {
   "display_name": "Python 3 (ipykernel)",
   "language": "python",
   "name": "python3"
  },
  "language_info": {
   "codemirror_mode": {
    "name": "ipython",
    "version": 3
   },
   "file_extension": ".py",
   "mimetype": "text/x-python",
   "name": "python",
   "nbconvert_exporter": "python",
   "pygments_lexer": "ipython3",
   "version": "3.10.6"
  }
 },
 "nbformat": 4,
 "nbformat_minor": 5
}
