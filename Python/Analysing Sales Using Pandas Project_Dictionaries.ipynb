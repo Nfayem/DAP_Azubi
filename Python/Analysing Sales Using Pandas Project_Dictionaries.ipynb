{
 "cells": [
  {
   "cell_type": "markdown",
   "id": "3415790c-1743-4cc2-a69c-c334a399b774",
   "metadata": {},
   "source": [
    "# ANALYSING SALES USING PANDAS PROJECT: DICTIONARIES"
   ]
  },
  {
   "cell_type": "markdown",
   "id": "d9a1510a-9023-40ad-b425-68196776d817",
   "metadata": {},
   "source": [
    "## Author(s): Nfayem Imoro"
   ]
  },
  {
   "cell_type": "raw",
   "id": "e33ad346-6d54-43df-b0e6-589d2b4e378f",
   "metadata": {},
   "source": [
    "The program performs data analysis, using pandas, on data acquired from the list of dictionaries below:\n",
    "[{'product_id':'23', 'name':'computer', 'wholesale_price':'500', 'retail_price':'1000', 'sales':'100'},\n",
    " {'product_id':'96', 'name':'Python Workout', 'wholesale_price':'35', 'retail_price':'75', 'sales':'1000'},\n",
    " {'product_id':'97', 'name':'Pandas Workout', 'wholesale_price':'35', 'retail_price':'75', 'sales':'500'},\n",
    " {'product_id':'15', 'name':'banana', 'wholesale_price':'0.5', 'retail_price':'1', 'sales':'200'},\n",
    " {'product_id':'87', 'name':'sandwich', 'wholesale_price':'3', 'retail_price':'5', 'sales':'300'}]"
   ]
  },
  {
   "cell_type": "markdown",
   "id": "292caefb-f37b-418c-a3a4-76116d726d97",
   "metadata": {},
   "source": [
    "### Step 1: Create DataFrame"
   ]
  },
  {
   "cell_type": "code",
   "execution_count": 1,
   "id": "51ac7681-4c55-4f1a-8dd5-4881cf52457c",
   "metadata": {},
   "outputs": [
    {
     "data": {
      "text/html": [
       "<div>\n",
       "<style scoped>\n",
       "    .dataframe tbody tr th:only-of-type {\n",
       "        vertical-align: middle;\n",
       "    }\n",
       "\n",
       "    .dataframe tbody tr th {\n",
       "        vertical-align: top;\n",
       "    }\n",
       "\n",
       "    .dataframe thead th {\n",
       "        text-align: right;\n",
       "    }\n",
       "</style>\n",
       "<table border=\"1\" class=\"dataframe\">\n",
       "  <thead>\n",
       "    <tr style=\"text-align: right;\">\n",
       "      <th></th>\n",
       "      <th>Product ID</th>\n",
       "      <th>Name</th>\n",
       "      <th>Wholesale Price (GHC)</th>\n",
       "      <th>Retail Price (GHC)</th>\n",
       "      <th>Sales</th>\n",
       "    </tr>\n",
       "  </thead>\n",
       "  <tbody>\n",
       "    <tr>\n",
       "      <th>0</th>\n",
       "      <td>23</td>\n",
       "      <td>Computer</td>\n",
       "      <td>500.0</td>\n",
       "      <td>1000.0</td>\n",
       "      <td>100</td>\n",
       "    </tr>\n",
       "    <tr>\n",
       "      <th>1</th>\n",
       "      <td>96</td>\n",
       "      <td>Python Workout</td>\n",
       "      <td>35.0</td>\n",
       "      <td>75.0</td>\n",
       "      <td>1000</td>\n",
       "    </tr>\n",
       "    <tr>\n",
       "      <th>2</th>\n",
       "      <td>97</td>\n",
       "      <td>Pandas Workout</td>\n",
       "      <td>35.0</td>\n",
       "      <td>75.0</td>\n",
       "      <td>500</td>\n",
       "    </tr>\n",
       "    <tr>\n",
       "      <th>3</th>\n",
       "      <td>15</td>\n",
       "      <td>Banana</td>\n",
       "      <td>0.5</td>\n",
       "      <td>1.0</td>\n",
       "      <td>200</td>\n",
       "    </tr>\n",
       "    <tr>\n",
       "      <th>4</th>\n",
       "      <td>87</td>\n",
       "      <td>Sandwich</td>\n",
       "      <td>3.0</td>\n",
       "      <td>5.0</td>\n",
       "      <td>300</td>\n",
       "    </tr>\n",
       "  </tbody>\n",
       "</table>\n",
       "</div>"
      ],
      "text/plain": [
       "  Product ID            Name  Wholesale Price (GHC)  Retail Price (GHC)  Sales\n",
       "0         23        Computer                  500.0              1000.0    100\n",
       "1         96  Python Workout                   35.0                75.0   1000\n",
       "2         97  Pandas Workout                   35.0                75.0    500\n",
       "3         15          Banana                    0.5                 1.0    200\n",
       "4         87        Sandwich                    3.0                 5.0    300"
      ]
     },
     "execution_count": 1,
     "metadata": {},
     "output_type": "execute_result"
    }
   ],
   "source": [
    "import pandas as pd\n",
    "\n",
    "# Derive data from the list of dictionaries above\n",
    "data = {\n",
    "    \"Product ID\": [\"23\", \"96\", \"97\", \"15\", \"87\"],\n",
    "    \"Name\": [\"Computer\", \"Python Workout\", \"Pandas Workout\", \"Banana\", \"Sandwich\"],\n",
    "    \"Wholesale Price (GHC)\": [500.00, 35.00, 35.00, 0.50, 3.00],\n",
    "    \"Retail Price (GHC)\": [1000.00, 75.00, 75.00, 1.00, 5.00],\n",
    "    \"Sales\": [100, 1000, 500, 200, 300]\n",
    "}\n",
    "\n",
    "# Convert to DataFrame\n",
    "df = pd.DataFrame(data)\n",
    "\n",
    "# Display dataframe\n",
    "df"
   ]
  },
  {
   "cell_type": "markdown",
   "id": "e9319cb1-5658-418e-ac1e-13ec19973c6c",
   "metadata": {},
   "source": [
    "### Step 2: Calculate the total profit for each product"
   ]
  },
  {
   "cell_type": "code",
   "execution_count": 2,
   "id": "55be81ff-8ff3-4aa4-979b-36a8f63034f6",
   "metadata": {},
   "outputs": [
    {
     "data": {
      "text/html": [
       "<div>\n",
       "<style scoped>\n",
       "    .dataframe tbody tr th:only-of-type {\n",
       "        vertical-align: middle;\n",
       "    }\n",
       "\n",
       "    .dataframe tbody tr th {\n",
       "        vertical-align: top;\n",
       "    }\n",
       "\n",
       "    .dataframe thead th {\n",
       "        text-align: right;\n",
       "    }\n",
       "</style>\n",
       "<table border=\"1\" class=\"dataframe\">\n",
       "  <thead>\n",
       "    <tr style=\"text-align: right;\">\n",
       "      <th></th>\n",
       "      <th>Product ID</th>\n",
       "      <th>Name</th>\n",
       "      <th>Wholesale Price (GHC)</th>\n",
       "      <th>Retail Price (GHC)</th>\n",
       "      <th>Sales</th>\n",
       "      <th>Profit (GHC)</th>\n",
       "    </tr>\n",
       "  </thead>\n",
       "  <tbody>\n",
       "    <tr>\n",
       "      <th>0</th>\n",
       "      <td>23</td>\n",
       "      <td>Computer</td>\n",
       "      <td>500.0</td>\n",
       "      <td>1000.0</td>\n",
       "      <td>100</td>\n",
       "      <td>50000.0</td>\n",
       "    </tr>\n",
       "    <tr>\n",
       "      <th>1</th>\n",
       "      <td>96</td>\n",
       "      <td>Python Workout</td>\n",
       "      <td>35.0</td>\n",
       "      <td>75.0</td>\n",
       "      <td>1000</td>\n",
       "      <td>40000.0</td>\n",
       "    </tr>\n",
       "    <tr>\n",
       "      <th>2</th>\n",
       "      <td>97</td>\n",
       "      <td>Pandas Workout</td>\n",
       "      <td>35.0</td>\n",
       "      <td>75.0</td>\n",
       "      <td>500</td>\n",
       "      <td>20000.0</td>\n",
       "    </tr>\n",
       "    <tr>\n",
       "      <th>3</th>\n",
       "      <td>15</td>\n",
       "      <td>Banana</td>\n",
       "      <td>0.5</td>\n",
       "      <td>1.0</td>\n",
       "      <td>200</td>\n",
       "      <td>100.0</td>\n",
       "    </tr>\n",
       "    <tr>\n",
       "      <th>4</th>\n",
       "      <td>87</td>\n",
       "      <td>Sandwich</td>\n",
       "      <td>3.0</td>\n",
       "      <td>5.0</td>\n",
       "      <td>300</td>\n",
       "      <td>600.0</td>\n",
       "    </tr>\n",
       "  </tbody>\n",
       "</table>\n",
       "</div>"
      ],
      "text/plain": [
       "  Product ID            Name  Wholesale Price (GHC)  Retail Price (GHC)  \\\n",
       "0         23        Computer                  500.0              1000.0   \n",
       "1         96  Python Workout                   35.0                75.0   \n",
       "2         97  Pandas Workout                   35.0                75.0   \n",
       "3         15          Banana                    0.5                 1.0   \n",
       "4         87        Sandwich                    3.0                 5.0   \n",
       "\n",
       "   Sales  Profit (GHC)  \n",
       "0    100       50000.0  \n",
       "1   1000       40000.0  \n",
       "2    500       20000.0  \n",
       "3    200         100.0  \n",
       "4    300         600.0  "
      ]
     },
     "execution_count": 2,
     "metadata": {},
     "output_type": "execute_result"
    }
   ],
   "source": [
    "# Calculate total profit for each product and add it as a new column\n",
    "df[\"Profit (GHC)\"] = (df[\"Retail Price (GHC)\"] - df[\"Wholesale Price (GHC)\"]) * df[\"Sales\"]\n",
    "\n",
    "#Dispaly updated dataframe\n",
    "df"
   ]
  },
  {
   "cell_type": "markdown",
   "id": "84fb735d-b8d2-47d3-a3b7-20f64939691e",
   "metadata": {},
   "source": [
    "### Step 3: Determine the following:"
   ]
  },
  {
   "cell_type": "markdown",
   "id": "240acfea-0ee7-4b71-9211-78734587b933",
   "metadata": {},
   "source": [
    "1. How much total net revenue you received from all these sales?\n",
    "2. What product is product retail price more than twice the wholesale price?\n",
    "3. How much did the store make from food vs computers vs books?\n",
    "4. Because the store is doing so well, you are able to negotiate a 30% discount on the wholesale price of goods. Calculate the new net revenue.\n",
    "5. Our local government is thinking about imposing a sales tax and is thinking about 15, 20, and 25 percent rates. Show how much less you would net with each of these tax amounts by adding columns to the data frame for current income, as well."
   ]
  },
  {
   "cell_type": "markdown",
   "id": "c9befb04-dc48-482b-9f2f-1929b6cea762",
   "metadata": {},
   "source": [
    "#### 1. How much total net revenue you received from all these sales?"
   ]
  },
  {
   "cell_type": "code",
   "execution_count": 3,
   "id": "288506d9-13b5-494b-bc04-ce53104fa65e",
   "metadata": {},
   "outputs": [
    {
     "name": "stdout",
     "output_type": "stream",
     "text": [
      "The total net revenue is: GHC 110,700.00\n"
     ]
    }
   ],
   "source": [
    "# Calculate the total net revenue and print the result\n",
    "total_net_revenue = df[\"Profit (GHC)\"].sum()\n",
    "print(f\"The total net revenue is: GHC {total_net_revenue:,.2f}\")"
   ]
  },
  {
   "cell_type": "markdown",
   "id": "2cf2ebef-ec09-4ce0-824e-1987dd479d49",
   "metadata": {},
   "source": [
    "#### 2. What product is product retail price more than twice the wholesale price?"
   ]
  },
  {
   "cell_type": "code",
   "execution_count": 4,
   "id": "de3633ac-b119-47c6-ba6f-9e161931aad0",
   "metadata": {},
   "outputs": [
    {
     "name": "stdout",
     "output_type": "stream",
     "text": [
      "The products where retail price is more than twice the wholesale price are:\n",
      "\n",
      "             Name  Wholesale Price (GHC)  Retail Price (GHC)\n",
      "1  Python Workout                   35.0                75.0\n",
      "2  Pandas Workout                   35.0                75.0\n"
     ]
    }
   ],
   "source": [
    "# Filter products where the retail price is more than twice the wholesale price\n",
    "result = df[df[\"Retail Price (GHC)\"] > 2 * df[\"Wholesale Price (GHC)\"]]\n",
    "\n",
    "# Print the filtered dataframe indicating the name, wholesale price, and retail price of products\n",
    "print(\"The products where retail price is more than twice the wholesale price are:\")\n",
    "print()\n",
    "print(result[[\"Name\", \"Wholesale Price (GHC)\", \"Retail Price (GHC)\"]])"
   ]
  },
  {
   "cell_type": "markdown",
   "id": "8f0f9bc1-edcc-439e-8372-de0fe7f29665",
   "metadata": {},
   "source": [
    "#### 3. How much did the store make from food vs computers vs books?"
   ]
  },
  {
   "cell_type": "code",
   "execution_count": 5,
   "id": "bb352600-2f3d-4100-9e60-d95b62819a30",
   "metadata": {},
   "outputs": [
    {
     "name": "stdout",
     "output_type": "stream",
     "text": [
      "The updated dataframe that only indicates product name, product category and profit is:\n",
      "\n",
      "             Name Product Category  Profit (GHC)\n",
      "0        Computer        Computers       50000.0\n",
      "1  Python Workout            Books       40000.0\n",
      "2  Pandas Workout            Books       20000.0\n",
      "3          Banana             Food         100.0\n",
      "4        Sandwich             Food         600.0\n",
      "\n",
      "The net revenue per product category is:\n",
      "Product Category\n",
      "Books        GHC 60,000.00\n",
      "Computers    GHC 50,000.00\n",
      "Food            GHC 700.00\n",
      "Name: Profit (GHC), dtype: object\n"
     ]
    }
   ],
   "source": [
    "# Function to categorize products\n",
    "def categorize_product(name):\n",
    "    if 'Computer' in name:\n",
    "        return 'Computers'\n",
    "    elif 'Workout' in name:\n",
    "        return 'Books'\n",
    "    else:\n",
    "        return 'Food'\n",
    "\n",
    "# Add a new column \"Product Category\"\n",
    "df['Product Category'] = df['Name'].apply(categorize_product)\n",
    "\n",
    "# Group by product category and calculate total profit for each category\n",
    "net_revenue_per_category = df.groupby(\"Product Category\")[\"Profit (GHC)\"].sum()\n",
    "\n",
    "# Format profit totals with commas, add GHC currency and keep them rounded to 2 decimal places\n",
    "net_revenue_per_category = net_revenue_per_category.map(lambda x: \"GHC {:,.2f}\".format(x))\n",
    "\n",
    "# Display results\n",
    "print(\"The updated dataframe that only indicates product name, product category and profit is:\")\n",
    "print()\n",
    "print(df[[\"Name\", \"Product Category\", \"Profit (GHC)\"]])\n",
    "print()\n",
    "print(\"The net revenue per product category is:\")\n",
    "print(net_revenue_per_category)"
   ]
  },
  {
   "cell_type": "markdown",
   "id": "4ad4b89e-55d3-4604-b94a-a6310a49a336",
   "metadata": {},
   "source": [
    "#### 4. Calculate the new net revenue if a 30% discount is applied to wholesale prices of products"
   ]
  },
  {
   "cell_type": "code",
   "execution_count": 6,
   "id": "e6ef328d-56bd-4fa3-b2dd-3a87a4aeb3d3",
   "metadata": {},
   "outputs": [
    {
     "name": "stdout",
     "output_type": "stream",
     "text": [
      "The discount wholesale price and new net revenue per product are:\n",
      "\n",
      "             Name  Discount Price (GHC)  New Profit (GHC)\n",
      "0        Computer                350.00           65000.0\n",
      "1  Python Workout                 24.50           50500.0\n",
      "2  Pandas Workout                 24.50           25250.0\n",
      "3          Banana                  0.35             130.0\n",
      "4        Sandwich                  2.10             870.0\n",
      "\n",
      "The new total net revenue is: 141,750.00\n"
     ]
    }
   ],
   "source": [
    "# Calculate the wholesale discount price for each product and add it as column\n",
    "df[\"Discount Price (GHC)\"] = df[\"Wholesale Price (GHC)\"] * (1-0.3)\n",
    "\n",
    "# Calculate new total profit for each product and add it as a new column\n",
    "df[\"New Profit (GHC)\"] = (df[\"Retail Price (GHC)\"] - df[\"Discount Price (GHC)\"]) * df[\"Sales\"]\n",
    "\n",
    "# Calculate the new total net revenue\n",
    "new_total_net_revenue = df[\"New Profit (GHC)\"].sum()\n",
    "\n",
    "# Display results\n",
    "print(\"The discount wholesale price and new net revenue per product are:\")\n",
    "print()\n",
    "print(df[[\"Name\", \"Discount Price (GHC)\", \"New Profit (GHC)\"]])\n",
    "print()\n",
    "print(f\"The new total net revenue is: {new_total_net_revenue:,.2f}\")"
   ]
  },
  {
   "cell_type": "markdown",
   "id": "12f08aef-0202-439d-9dc3-a6becde318bc",
   "metadata": {},
   "source": [
    "#### 5. The local government plans to impose a sales tax of 15%, 20% or 25%:"
   ]
  },
  {
   "cell_type": "markdown",
   "id": "ca2e7e33-c21b-4850-83b9-58b1c0729ce7",
   "metadata": {},
   "source": [
    "##### a. Determine the current income gained per product and then calculate the net income per product after tax at the different tax rates"
   ]
  },
  {
   "cell_type": "markdown",
   "id": "9ab38af7-4d42-4dab-9b71-459751ba2f43",
   "metadata": {},
   "source": [
    "##### Tier 1"
   ]
  },
  {
   "cell_type": "code",
   "execution_count": 7,
   "id": "cdc2ea12-bea9-41cc-b8d9-b3120e0e45b7",
   "metadata": {},
   "outputs": [
    {
     "data": {
      "text/html": [
       "<div>\n",
       "<style scoped>\n",
       "    .dataframe tbody tr th:only-of-type {\n",
       "        vertical-align: middle;\n",
       "    }\n",
       "\n",
       "    .dataframe tbody tr th {\n",
       "        vertical-align: top;\n",
       "    }\n",
       "\n",
       "    .dataframe thead th {\n",
       "        text-align: right;\n",
       "    }\n",
       "</style>\n",
       "<table border=\"1\" class=\"dataframe\">\n",
       "  <thead>\n",
       "    <tr style=\"text-align: right;\">\n",
       "      <th></th>\n",
       "      <th>Name</th>\n",
       "      <th>Current Income (GHC)</th>\n",
       "      <th>Net Income after 15.0% Tax (GHC)</th>\n",
       "      <th>Net Income after 20.0% Tax (GHC)</th>\n",
       "      <th>Net Income after 25.0% Tax (GHC)</th>\n",
       "    </tr>\n",
       "  </thead>\n",
       "  <tbody>\n",
       "    <tr>\n",
       "      <th>0</th>\n",
       "      <td>Computer</td>\n",
       "      <td>50000.0</td>\n",
       "      <td>42500.0</td>\n",
       "      <td>40000.0</td>\n",
       "      <td>37500.0</td>\n",
       "    </tr>\n",
       "    <tr>\n",
       "      <th>1</th>\n",
       "      <td>Python Workout</td>\n",
       "      <td>40000.0</td>\n",
       "      <td>34000.0</td>\n",
       "      <td>32000.0</td>\n",
       "      <td>30000.0</td>\n",
       "    </tr>\n",
       "    <tr>\n",
       "      <th>2</th>\n",
       "      <td>Pandas Workout</td>\n",
       "      <td>20000.0</td>\n",
       "      <td>17000.0</td>\n",
       "      <td>16000.0</td>\n",
       "      <td>15000.0</td>\n",
       "    </tr>\n",
       "    <tr>\n",
       "      <th>3</th>\n",
       "      <td>Banana</td>\n",
       "      <td>100.0</td>\n",
       "      <td>85.0</td>\n",
       "      <td>80.0</td>\n",
       "      <td>75.0</td>\n",
       "    </tr>\n",
       "    <tr>\n",
       "      <th>4</th>\n",
       "      <td>Sandwich</td>\n",
       "      <td>600.0</td>\n",
       "      <td>510.0</td>\n",
       "      <td>480.0</td>\n",
       "      <td>450.0</td>\n",
       "    </tr>\n",
       "  </tbody>\n",
       "</table>\n",
       "</div>"
      ],
      "text/plain": [
       "             Name  Current Income (GHC)  Net Income after 15.0% Tax (GHC)  \\\n",
       "0        Computer               50000.0                           42500.0   \n",
       "1  Python Workout               40000.0                           34000.0   \n",
       "2  Pandas Workout               20000.0                           17000.0   \n",
       "3          Banana                 100.0                              85.0   \n",
       "4        Sandwich                 600.0                             510.0   \n",
       "\n",
       "   Net Income after 20.0% Tax (GHC)  Net Income after 25.0% Tax (GHC)  \n",
       "0                           40000.0                           37500.0  \n",
       "1                           32000.0                           30000.0  \n",
       "2                           16000.0                           15000.0  \n",
       "3                              80.0                              75.0  \n",
       "4                             480.0                             450.0  "
      ]
     },
     "execution_count": 7,
     "metadata": {},
     "output_type": "execute_result"
    }
   ],
   "source": [
    "# Define sales tax rates\n",
    "tax_rates = [0.15, 0.20, 0.25]\n",
    "\n",
    "# Calculate current income (before tax) for each product\n",
    "df[\"Current Income (GHC)\"] = df[\"Profit (GHC)\"] \n",
    "\n",
    "# Calculate net income after tax for each product at different tax rates\n",
    "for tax_rate in tax_rates:\n",
    "    tax_label = f\"Net Income after {tax_rate*100}% Tax (GHC)\"\n",
    "    df[tax_label] = df[\"Current Income (GHC)\"] * (1 - tax_rate)\n",
    "\n",
    "# Select columns to print\n",
    "columns_to_print = [\"Name\", \"Current Income (GHC)\"]\n",
    "for tax_rate in tax_rates:\n",
    "    columns_to_print.append(f\"Net Income after {tax_rate*100}% Tax (GHC)\")\n",
    "\n",
    "# Display selected columns\n",
    "df[columns_to_print]"
   ]
  },
  {
   "cell_type": "markdown",
   "id": "67918383-8df7-459f-b2ef-fdc11e87a438",
   "metadata": {},
   "source": [
    "##### Tier 2"
   ]
  },
  {
   "cell_type": "code",
   "execution_count": 8,
   "id": "4eec4483-ac04-4d42-8125-91c8272cae50",
   "metadata": {},
   "outputs": [
    {
     "data": {
      "text/html": [
       "<div>\n",
       "<style scoped>\n",
       "    .dataframe tbody tr th:only-of-type {\n",
       "        vertical-align: middle;\n",
       "    }\n",
       "\n",
       "    .dataframe tbody tr th {\n",
       "        vertical-align: top;\n",
       "    }\n",
       "\n",
       "    .dataframe thead th {\n",
       "        text-align: right;\n",
       "    }\n",
       "</style>\n",
       "<table border=\"1\" class=\"dataframe\">\n",
       "  <thead>\n",
       "    <tr style=\"text-align: right;\">\n",
       "      <th></th>\n",
       "      <th>Name</th>\n",
       "      <th>Profit (GHC)</th>\n",
       "      <th>15% Sales Tax Reduction (GHC)</th>\n",
       "      <th>20% Sales Tax Reduction (GHC)</th>\n",
       "      <th>25% Sales Tax Reduction (GHC)</th>\n",
       "    </tr>\n",
       "  </thead>\n",
       "  <tbody>\n",
       "    <tr>\n",
       "      <th>0</th>\n",
       "      <td>Computer</td>\n",
       "      <td>50000.0</td>\n",
       "      <td>42500.0</td>\n",
       "      <td>40000.0</td>\n",
       "      <td>37500.0</td>\n",
       "    </tr>\n",
       "    <tr>\n",
       "      <th>1</th>\n",
       "      <td>Python Workout</td>\n",
       "      <td>40000.0</td>\n",
       "      <td>34000.0</td>\n",
       "      <td>32000.0</td>\n",
       "      <td>30000.0</td>\n",
       "    </tr>\n",
       "    <tr>\n",
       "      <th>2</th>\n",
       "      <td>Pandas Workout</td>\n",
       "      <td>20000.0</td>\n",
       "      <td>17000.0</td>\n",
       "      <td>16000.0</td>\n",
       "      <td>15000.0</td>\n",
       "    </tr>\n",
       "    <tr>\n",
       "      <th>3</th>\n",
       "      <td>Banana</td>\n",
       "      <td>100.0</td>\n",
       "      <td>85.0</td>\n",
       "      <td>80.0</td>\n",
       "      <td>75.0</td>\n",
       "    </tr>\n",
       "    <tr>\n",
       "      <th>4</th>\n",
       "      <td>Sandwich</td>\n",
       "      <td>600.0</td>\n",
       "      <td>510.0</td>\n",
       "      <td>480.0</td>\n",
       "      <td>450.0</td>\n",
       "    </tr>\n",
       "  </tbody>\n",
       "</table>\n",
       "</div>"
      ],
      "text/plain": [
       "             Name  Profit (GHC)  15% Sales Tax Reduction (GHC)  \\\n",
       "0        Computer       50000.0                        42500.0   \n",
       "1  Python Workout       40000.0                        34000.0   \n",
       "2  Pandas Workout       20000.0                        17000.0   \n",
       "3          Banana         100.0                           85.0   \n",
       "4        Sandwich         600.0                          510.0   \n",
       "\n",
       "   20% Sales Tax Reduction (GHC)  25% Sales Tax Reduction (GHC)  \n",
       "0                        40000.0                        37500.0  \n",
       "1                        32000.0                        30000.0  \n",
       "2                        16000.0                        15000.0  \n",
       "3                           80.0                           75.0  \n",
       "4                          480.0                          450.0  "
      ]
     },
     "execution_count": 8,
     "metadata": {},
     "output_type": "execute_result"
    }
   ],
   "source": [
    "# Calculate net revenue for each product after 15% sales tax reduction\n",
    "df[\"15% Sales Tax Reduction (GHC)\"] = df[\"Profit (GHC)\"] * (1-0.15)\n",
    "\n",
    "# Calculate net revenue for each product after 20% sales tax reduction\n",
    "df[\"20% Sales Tax Reduction (GHC)\"] = df[\"Profit (GHC)\"] * (1-0.2)\n",
    "\n",
    "# Calculate net revenue for each product after 25% sales tax reduction\n",
    "df[\"25% Sales Tax Reduction (GHC)\"] = df[\"Profit (GHC)\"] * (1-0.25)\n",
    "\n",
    "# Display specific columns of updated dataframe to include net revenue for each product after each tax reduction\n",
    "df[[\"Name\", \"Profit (GHC)\", \"15% Sales Tax Reduction (GHC)\", \"20% Sales Tax Reduction (GHC)\", \"25% Sales Tax Reduction (GHC)\"]]"
   ]
  },
  {
   "cell_type": "markdown",
   "id": "b209a6f2-2642-4c72-b146-597d8c28c9a9",
   "metadata": {},
   "source": [
    "##### b. Calculate how much less you would net in total at the different tax rates"
   ]
  },
  {
   "cell_type": "markdown",
   "id": "a32e52de-7960-4993-8975-319227229108",
   "metadata": {},
   "source": [
    "##### Tier 1"
   ]
  },
  {
   "cell_type": "code",
   "execution_count": 9,
   "id": "c325b85a-221b-4100-86b3-f2fbacb47b71",
   "metadata": {},
   "outputs": [
    {
     "name": "stdout",
     "output_type": "stream",
     "text": [
      "The total current income is: GHC 110,700.00\n",
      "\n",
      "The total net income after tax at each tax rate:\n",
      "\n",
      "15.0% Tax Reduction: GHC 94,095.00\n",
      "20.0% Tax Reduction: GHC 88,560.00\n",
      "25.0% Tax Reduction: GHC 83,025.00\n",
      "\n",
      "The total net loss in income after tax at each tax rate:\n",
      "\n",
      "15.0% Tax Reduction: GHC 16,605.00\n",
      "20.0% Tax Reduction: GHC 22,140.00\n",
      "25.0% Tax Reduction: GHC 27,675.00\n"
     ]
    }
   ],
   "source": [
    "# Calculate the total current income and print the result\n",
    "total_current_income = df[\"Current Income (GHC)\"].sum()\n",
    "print(f\"The total current income is: GHC {total_current_income:,.2f}\")\n",
    "print()\n",
    "\n",
    "# Print\n",
    "print(\"The total net income after tax at each tax rate:\")\n",
    "print()\n",
    "\n",
    "# Calculate total net income after tax at different tax rates\n",
    "for tax_rate in tax_rates:\n",
    "    net_income = total_current_income * (1 - tax_rate)\n",
    "    # Print total net income after tax at each tax rate\n",
    "    print(f\"{tax_rate*100}% Tax Reduction: GHC {net_income:,.2f}\")\n",
    "\n",
    "# Print\n",
    "print()\n",
    "print(\"The total net loss in income after tax at each tax rate:\")\n",
    "print()\n",
    "\n",
    "# Calculate total net loss in income after tax at different tax rates\n",
    "for tax_rate in tax_rates:\n",
    "    net_income = total_current_income * (1 - tax_rate)\n",
    "    net_loss = total_current_income - net_income\n",
    "    # Print total net loss in income after tax at each tax rate\n",
    "    print(f\"{tax_rate*100}% Tax Reduction: GHC {net_loss:,.2f}\")"
   ]
  },
  {
   "cell_type": "markdown",
   "id": "b859d5e3-75c7-4744-ace1-e41a2c5d5750",
   "metadata": {},
   "source": [
    "##### Tier 2"
   ]
  },
  {
   "cell_type": "code",
   "execution_count": 10,
   "id": "b576437b-cfeb-4e84-9396-dca9cd880a29",
   "metadata": {},
   "outputs": [
    {
     "name": "stdout",
     "output_type": "stream",
     "text": [
      "The total net revenue is: GHC 110,700.00\n",
      "\n",
      "The new total net revenue for each tax reduction:\n",
      "\n",
      "Fifteen Percent Tax Reduction: GHC 94,095.00\n",
      "Twenty Percent Tax Reduction: GHC 88,560.00\n",
      "Twenty five Percent Tax Reduction: GHC 83,025.00\n",
      "\n",
      "The net loss for total revenue for each tax reduction:\n",
      "\n",
      "Fifteen Percent Tax Reduction: GHC 16,605.00\n",
      "Twenty Percent Tax Reduction: GHC 22,140.00\n",
      "Twenty five Percent Tax Reduction: GHC 27,675.00\n"
     ]
    }
   ],
   "source": [
    "# Calculate the new total net revenue for each sales tax reduction\n",
    "new_net_revenue_fifteen = df[\"15% Sales Tax Reduction (GHC)\"].sum()\n",
    "new_net_revenue_twenty = df[\"20% Sales Tax Reduction (GHC)\"].sum()\n",
    "new_net_revenue_twenty_five = df[\"25% Sales Tax Reduction (GHC)\"].sum()\n",
    "\n",
    "# Calculate the loss in net revenue for each sales tax reduction\n",
    "dif_net_revenue_fifteen = total_net_revenue - new_net_revenue_fifteen\n",
    "dif_net_revenue_twenty = total_net_revenue - new_net_revenue_twenty\n",
    "dif_net_revenue_twenty_five = total_net_revenue - new_net_revenue_twenty_five\n",
    "\n",
    "# Display results\n",
    "print(f\"The total net revenue is: GHC {total_net_revenue:,.2f}\")\n",
    "print()\n",
    "print(\"The new total net revenue for each tax reduction:\")\n",
    "print()\n",
    "print(f\"Fifteen Percent Tax Reduction: GHC {new_net_revenue_fifteen:,.2f}\")\n",
    "print(f\"Twenty Percent Tax Reduction: GHC {new_net_revenue_twenty:,.2f}\")\n",
    "print(f\"Twenty five Percent Tax Reduction: GHC {new_net_revenue_twenty_five:,.2f}\")\n",
    "print()\n",
    "print(\"The net loss for total revenue for each tax reduction:\")\n",
    "print()\n",
    "print(f\"Fifteen Percent Tax Reduction: GHC {dif_net_revenue_fifteen:,.2f}\")\n",
    "print(f\"Twenty Percent Tax Reduction: GHC {dif_net_revenue_twenty:,.2f}\")\n",
    "print(f\"Twenty five Percent Tax Reduction: GHC {dif_net_revenue_twenty_five:,.2f}\")"
   ]
  },
  {
   "cell_type": "markdown",
   "id": "0b35aa4b-a62e-43c6-9e56-e66fee168ae4",
   "metadata": {},
   "source": [
    "### DataFrame at the End of the Program"
   ]
  },
  {
   "cell_type": "code",
   "execution_count": 12,
   "id": "7e7b1f8a-c85c-47aa-9064-e9b8c6e15574",
   "metadata": {},
   "outputs": [
    {
     "data": {
      "text/html": [
       "<div>\n",
       "<style scoped>\n",
       "    .dataframe tbody tr th:only-of-type {\n",
       "        vertical-align: middle;\n",
       "    }\n",
       "\n",
       "    .dataframe tbody tr th {\n",
       "        vertical-align: top;\n",
       "    }\n",
       "\n",
       "    .dataframe thead th {\n",
       "        text-align: right;\n",
       "    }\n",
       "</style>\n",
       "<table border=\"1\" class=\"dataframe\">\n",
       "  <thead>\n",
       "    <tr style=\"text-align: right;\">\n",
       "      <th></th>\n",
       "      <th>Product ID</th>\n",
       "      <th>Name</th>\n",
       "      <th>Wholesale Price (GHC)</th>\n",
       "      <th>Retail Price (GHC)</th>\n",
       "      <th>Sales</th>\n",
       "      <th>Profit (GHC)</th>\n",
       "      <th>Product Category</th>\n",
       "      <th>Discount Price (GHC)</th>\n",
       "      <th>New Profit (GHC)</th>\n",
       "      <th>Current Income (GHC)</th>\n",
       "      <th>Net Income after 15.0% Tax (GHC)</th>\n",
       "      <th>Net Income after 20.0% Tax (GHC)</th>\n",
       "      <th>Net Income after 25.0% Tax (GHC)</th>\n",
       "      <th>15% Sales Tax Reduction (GHC)</th>\n",
       "      <th>20% Sales Tax Reduction (GHC)</th>\n",
       "      <th>25% Sales Tax Reduction (GHC)</th>\n",
       "    </tr>\n",
       "  </thead>\n",
       "  <tbody>\n",
       "    <tr>\n",
       "      <th>0</th>\n",
       "      <td>23</td>\n",
       "      <td>Computer</td>\n",
       "      <td>500.0</td>\n",
       "      <td>1000.0</td>\n",
       "      <td>100</td>\n",
       "      <td>50000.0</td>\n",
       "      <td>Computers</td>\n",
       "      <td>350.00</td>\n",
       "      <td>65000.0</td>\n",
       "      <td>50000.0</td>\n",
       "      <td>42500.0</td>\n",
       "      <td>40000.0</td>\n",
       "      <td>37500.0</td>\n",
       "      <td>42500.0</td>\n",
       "      <td>40000.0</td>\n",
       "      <td>37500.0</td>\n",
       "    </tr>\n",
       "    <tr>\n",
       "      <th>1</th>\n",
       "      <td>96</td>\n",
       "      <td>Python Workout</td>\n",
       "      <td>35.0</td>\n",
       "      <td>75.0</td>\n",
       "      <td>1000</td>\n",
       "      <td>40000.0</td>\n",
       "      <td>Books</td>\n",
       "      <td>24.50</td>\n",
       "      <td>50500.0</td>\n",
       "      <td>40000.0</td>\n",
       "      <td>34000.0</td>\n",
       "      <td>32000.0</td>\n",
       "      <td>30000.0</td>\n",
       "      <td>34000.0</td>\n",
       "      <td>32000.0</td>\n",
       "      <td>30000.0</td>\n",
       "    </tr>\n",
       "    <tr>\n",
       "      <th>2</th>\n",
       "      <td>97</td>\n",
       "      <td>Pandas Workout</td>\n",
       "      <td>35.0</td>\n",
       "      <td>75.0</td>\n",
       "      <td>500</td>\n",
       "      <td>20000.0</td>\n",
       "      <td>Books</td>\n",
       "      <td>24.50</td>\n",
       "      <td>25250.0</td>\n",
       "      <td>20000.0</td>\n",
       "      <td>17000.0</td>\n",
       "      <td>16000.0</td>\n",
       "      <td>15000.0</td>\n",
       "      <td>17000.0</td>\n",
       "      <td>16000.0</td>\n",
       "      <td>15000.0</td>\n",
       "    </tr>\n",
       "    <tr>\n",
       "      <th>3</th>\n",
       "      <td>15</td>\n",
       "      <td>Banana</td>\n",
       "      <td>0.5</td>\n",
       "      <td>1.0</td>\n",
       "      <td>200</td>\n",
       "      <td>100.0</td>\n",
       "      <td>Food</td>\n",
       "      <td>0.35</td>\n",
       "      <td>130.0</td>\n",
       "      <td>100.0</td>\n",
       "      <td>85.0</td>\n",
       "      <td>80.0</td>\n",
       "      <td>75.0</td>\n",
       "      <td>85.0</td>\n",
       "      <td>80.0</td>\n",
       "      <td>75.0</td>\n",
       "    </tr>\n",
       "    <tr>\n",
       "      <th>4</th>\n",
       "      <td>87</td>\n",
       "      <td>Sandwich</td>\n",
       "      <td>3.0</td>\n",
       "      <td>5.0</td>\n",
       "      <td>300</td>\n",
       "      <td>600.0</td>\n",
       "      <td>Food</td>\n",
       "      <td>2.10</td>\n",
       "      <td>870.0</td>\n",
       "      <td>600.0</td>\n",
       "      <td>510.0</td>\n",
       "      <td>480.0</td>\n",
       "      <td>450.0</td>\n",
       "      <td>510.0</td>\n",
       "      <td>480.0</td>\n",
       "      <td>450.0</td>\n",
       "    </tr>\n",
       "  </tbody>\n",
       "</table>\n",
       "</div>"
      ],
      "text/plain": [
       "  Product ID            Name  Wholesale Price (GHC)  Retail Price (GHC)  \\\n",
       "0         23        Computer                  500.0              1000.0   \n",
       "1         96  Python Workout                   35.0                75.0   \n",
       "2         97  Pandas Workout                   35.0                75.0   \n",
       "3         15          Banana                    0.5                 1.0   \n",
       "4         87        Sandwich                    3.0                 5.0   \n",
       "\n",
       "   Sales  Profit (GHC) Product Category  Discount Price (GHC)  \\\n",
       "0    100       50000.0        Computers                350.00   \n",
       "1   1000       40000.0            Books                 24.50   \n",
       "2    500       20000.0            Books                 24.50   \n",
       "3    200         100.0             Food                  0.35   \n",
       "4    300         600.0             Food                  2.10   \n",
       "\n",
       "   New Profit (GHC)  Current Income (GHC)  Net Income after 15.0% Tax (GHC)  \\\n",
       "0           65000.0               50000.0                           42500.0   \n",
       "1           50500.0               40000.0                           34000.0   \n",
       "2           25250.0               20000.0                           17000.0   \n",
       "3             130.0                 100.0                              85.0   \n",
       "4             870.0                 600.0                             510.0   \n",
       "\n",
       "   Net Income after 20.0% Tax (GHC)  Net Income after 25.0% Tax (GHC)  \\\n",
       "0                           40000.0                           37500.0   \n",
       "1                           32000.0                           30000.0   \n",
       "2                           16000.0                           15000.0   \n",
       "3                              80.0                              75.0   \n",
       "4                             480.0                             450.0   \n",
       "\n",
       "   15% Sales Tax Reduction (GHC)  20% Sales Tax Reduction (GHC)  \\\n",
       "0                        42500.0                        40000.0   \n",
       "1                        34000.0                        32000.0   \n",
       "2                        17000.0                        16000.0   \n",
       "3                           85.0                           80.0   \n",
       "4                          510.0                          480.0   \n",
       "\n",
       "   25% Sales Tax Reduction (GHC)  \n",
       "0                        37500.0  \n",
       "1                        30000.0  \n",
       "2                        15000.0  \n",
       "3                           75.0  \n",
       "4                          450.0  "
      ]
     },
     "execution_count": 12,
     "metadata": {},
     "output_type": "execute_result"
    }
   ],
   "source": [
    "# Display dataframe at the end of the program\n",
    "df"
   ]
  },
  {
   "cell_type": "code",
   "execution_count": null,
   "id": "3294e99d-73d6-45bc-b658-cc40e75660e0",
   "metadata": {},
   "outputs": [],
   "source": []
  }
 ],
 "metadata": {
  "kernelspec": {
   "display_name": "Python 3 (ipykernel)",
   "language": "python",
   "name": "python3"
  },
  "language_info": {
   "codemirror_mode": {
    "name": "ipython",
    "version": 3
   },
   "file_extension": ".py",
   "mimetype": "text/x-python",
   "name": "python",
   "nbconvert_exporter": "python",
   "pygments_lexer": "ipython3",
   "version": "3.10.6"
  }
 },
 "nbformat": 4,
 "nbformat_minor": 5
}
