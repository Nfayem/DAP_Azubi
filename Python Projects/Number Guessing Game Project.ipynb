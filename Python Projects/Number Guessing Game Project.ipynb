{
 "cells": [
  {
   "cell_type": "markdown",
   "id": "f2e0e110-22c4-4ef7-9cc6-a3f51c98e511",
   "metadata": {},
   "source": [
    "# NUMBER GUESSING GAME PROJECT"
   ]
  },
  {
   "cell_type": "markdown",
   "id": "50975a14-830c-4762-b3c0-3b59d500a4d0",
   "metadata": {},
   "source": [
    "The program generates a random number between 1 and 15 and allows the user to guess a number between this range."
   ]
  },
  {
   "cell_type": "markdown",
   "id": "3c8b8d26-b955-43ad-8dce-ce50f8c18209",
   "metadata": {},
   "source": [
    "## TIER 1"
   ]
  },
  {
   "cell_type": "code",
   "execution_count": null,
   "id": "a264896f-a59d-4720-8057-fd0a9df930d4",
   "metadata": {},
   "outputs": [],
   "source": [
    "import random\n",
    "\n",
    "def guessing_game():\n",
    "    \n",
    "    # Generate a random number between 1 and 15\n",
    "    actual_number = random.randint(1, 15)\n",
    "\n",
    "    while True:\n",
    "        try:\n",
    "            # User submits a guess between 1 and 15 and the validity is checked\n",
    "            guess_number = int(input('Enter a random number between 1 and 15: '))\n",
    "            if guess_number < 1 or guess_number > 15:\n",
    "                raise ValueError\n",
    "                \n",
    "            # Check if the guess is correct\n",
    "            if actual_number == guess_number:\n",
    "                print(\"SUPER! You guessed right. The actual number is:\", actual_number)\n",
    "                break\n",
    "            else:\n",
    "                print(\"SORRY! You guessed wrong, try again\")\n",
    "                \n",
    "        except ValueError:\n",
    "            print(\"Invalid input. Please enter a positive integer number between 1 and 15.\")\n",
    "\n",
    "if __name__ == \"__main__\":\n",
    "    guessing_game()"
   ]
  },
  {
   "cell_type": "markdown",
   "id": "a0700ff3-625c-4ed2-8f18-3ee7506cb6bc",
   "metadata": {},
   "source": [
    "## TIER 2"
   ]
  },
  {
   "cell_type": "code",
   "execution_count": null,
   "id": "25b7be7b-2d2a-4b33-a547-a36f479c28b5",
   "metadata": {},
   "outputs": [],
   "source": [
    "import random\n",
    "\n",
    "# Generate a random number between 1 and 15\n",
    "actual_number = random.randint(1, 15)\n",
    "\n",
    "while True:\n",
    "    try:\n",
    "        # User submits a guess between 1 and 15 and the validity is checked\n",
    "        guess_number = int(input('Enter a random number between 1 and 15: '))\n",
    "        if guess_number < 1 or guess_number > 15:\n",
    "            raise ValueError\n",
    "            \n",
    "        # Check if the guess is correct\n",
    "        if actual_number == guess_number:\n",
    "            print(\"SUPER! You guessed right. The actual number is:\", actual_number)\n",
    "            break\n",
    "        else:\n",
    "            print(\"SORRY! You guessed wrong, try again\")\n",
    "            \n",
    "    except ValueError:\n",
    "        print(\"Invalid input. Please enter a positive integer number between 1 and 15.\")"
   ]
  },
  {
   "cell_type": "markdown",
   "id": "9bbc55e3-23af-42bb-934c-26c6c3a629dd",
   "metadata": {},
   "source": [
    "## Program Documentation"
   ]
  },
  {
   "cell_type": "markdown",
   "id": "da67fdda-ff84-498c-9f93-76b7031a2265",
   "metadata": {},
   "source": [
    "import random\n",
    "<!-- This line imports the random module, which provides functions for generating random numbers. -->\n",
    "\n",
    "def guessing_game():\n",
    "<!-- This line defines a function named guessing_game(). This function will serve as the main logic of the guessing game. -->\n",
    "\n",
    "actual_number = random.randint(1, 15)\n",
    "<!-- This line generates a random integer between 1 and 15 (inclusive) using the randint() function from the random module. The randomly generated number is stored in the variable actual_number, which represents the correct \n",
    "answer that the player needs to guess. -->\n",
    "\n",
    "while True:\n",
    "<!-- This line starts an infinite loop. The game will continue running until the player guesses the correct number \n",
    "and the loop is explicitly exited with a break statement. -->\n",
    "\n",
    "try:\n",
    "<!-- This line starts a try block, which is used for exception handling. The code inside the try block may \n",
    "raise exceptions. -->\n",
    "\n",
    "guess_number = int(input('Enter a random number between 1 and 15: '))\n",
    "<!-- This line prompts the player to input a number between 1 and 15. The input() function takes user input as a \n",
    "string, which is then converted to an integer using int(). The player's guess is stored in the variable guess_number. -->\n",
    "\n",
    "if guess_number < 1 or guess_number > 15:\n",
    "<!-- This line checks if the value entered by the player is less than 1 or greater than 15 -->\n",
    "\n",
    "raise ValueError(\"Please enter a number between 1 and 15.\")\n",
    "<!-- This line raises a value error if the value entered satisfies the conditional clause above -->\n",
    "\n",
    "if actual_number == guess_number:\n",
    "<!-- This line checks if the player's guess is equal to the actual answer stored in actual_answer. -->\n",
    "\n",
    "print(\"SUPER! You guessed right. The actual number is:\", actual_number)\n",
    "<!-- If the player's guess is correct, this line prints a congratulatory message along with the correct answer. -->\n",
    "\n",
    "break\n",
    "<!-- This line exits the loop and ends the game since the player has guessed the correct number. -->\n",
    "\n",
    "else:\n",
    "<!-- If the player's guess is incorrect, this line starts the block of code executed when the guess is wrong. -->\n",
    "\n",
    "print(\"SORRY! You guessed wrong, try again\")\n",
    "<!-- This line prints a message informing the player that their guess was incorrect. -->\n",
    "\n",
    "except ValueError:\n",
    "<!-- This line starts an except block, which catches ValueError exceptions that may occur within the try block. -->\n",
    "\n",
    "print(\"Invalid input. Please enter a positive integer number between 1 and 15.\")\n",
    "<!-- This line prints the value error message to inform the user that the input was invalid. -->\n",
    "\n",
    "if __name__ == \"__main__\":\n",
    "<!-- This line checks if the script is being run directly as the main program. -->\n",
    "\n",
    "guessing_game()\n",
    "<!-- This line calls the guessing_game() function if the script is being run directly as the main program. \n",
    "It serves as the entry point of the program. -->"
   ]
  }
 ],
 "metadata": {
  "kernelspec": {
   "display_name": "Python 3 (ipykernel)",
   "language": "python",
   "name": "python3"
  },
  "language_info": {
   "codemirror_mode": {
    "name": "ipython",
    "version": 3
   },
   "file_extension": ".py",
   "mimetype": "text/x-python",
   "name": "python",
   "nbconvert_exporter": "python",
   "pygments_lexer": "ipython3",
   "version": "3.10.6"
  }
 },
 "nbformat": 4,
 "nbformat_minor": 5
}
